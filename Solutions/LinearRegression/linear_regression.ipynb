{
 "metadata": {
  "name": "",
  "signature": "sha256:642dfeae3ed1012989ef0506d1bfd1fa7b552fcfd6e1c2ef6a5c116795d99661"
 },
 "nbformat": 3,
 "nbformat_minor": 0,
 "worksheets": [
  {
   "cells": [
    {
     "cell_type": "code",
     "collapsed": false,
     "input": [
      "%matplotlib inline"
     ],
     "language": "python",
     "metadata": {},
     "outputs": [],
     "prompt_number": 21
    },
    {
     "cell_type": "code",
     "collapsed": false,
     "input": [
      "\"\"\"\n",
      "Created on Mon Mar 16 20:07:17 2015\n",
      "\n",
      "@author: harishkashyap\n",
      "\"\"\"\n",
      "\n",
      "# importing division from the 'future' release of Python (i.e. Python 3)\n",
      "from __future__ import division\n",
      "\n",
      "# importing numpy and the KNN content in scikit-learn \n",
      "# along with SQLite and pandas.\n",
      "import numpy\n",
      "import sqlite3\n",
      "import pandas\n",
      "\n",
      "# importing statsmodels to run the linear regression\n",
      "# scikit-learn also has a linear model method, but the statsmodels version\n",
      "# has more user-friendly output.\n",
      "import statsmodels.formula.api as smf\n",
      "\n",
      "# designating model constants at the top of the file per PEP8 \n",
      "# see https://www.python.org/dev/peps/pep-0008/\n",
      "# this is the percent we want to hold out for our cross-validation.\n",
      "CROSS_VALIDATION_AMOUNT = .2\n",
      "\n",
      "conn = sqlite3.connect('../../data/lahman2013.sqlite')\n",
      "\n",
      "sql = \"\"\"\n",
      "select yearID, \n",
      "       nameGiven,\n",
      "\t sum(G_batting) as games_as_batter,\n",
      " \t sum(AB) as at_bats,\n",
      "\t sum(R) as runs, \n",
      "\t sum(H) as hits, \n",
      "       sum(\"2B\") as doubles,\n",
      "       sum(\"3B\") as triples,\n",
      "       sum(HR) as homeruns,\n",
      "       sum(RBI) as rbi,\n",
      "\t sum(SB) as stolen_bases,  \n",
      "\t sum(BB) as walks,\n",
      "\t sum(SO) as strikeouts,\n",
      "       sum(IBB) as intentional_walks,\n",
      "       sum(HBP) as hits_by_pitch,\n",
      "       sum(SH) as sacrifice_hits,\n",
      "       sum(SF) as sacrifice_flies\n",
      "from Batting INNER JOIN Master ON Batting.playerId = Master.playerID\n",
      "group by nameGiven\n",
      "order by yearID ASC\"\"\"\n",
      "\n",
      "df = pandas.read_sql(sql, conn)\n",
      "conn.close()\n",
      "df.head()"
     ],
     "language": "python",
     "metadata": {},
     "outputs": [
      {
       "html": [
        "<div style=\"max-height:1000px;max-width:1500px;overflow:auto;\">\n",
        "<table border=\"1\" class=\"dataframe\">\n",
        "  <thead>\n",
        "    <tr style=\"text-align: right;\">\n",
        "      <th></th>\n",
        "      <th>yearID</th>\n",
        "      <th>nameGiven</th>\n",
        "      <th>games_as_batter</th>\n",
        "      <th>at_bats</th>\n",
        "      <th>runs</th>\n",
        "      <th>hits</th>\n",
        "      <th>doubles</th>\n",
        "      <th>triples</th>\n",
        "      <th>homeruns</th>\n",
        "      <th>rbi</th>\n",
        "      <th>stolen_bases</th>\n",
        "      <th>walks</th>\n",
        "      <th>strikeouts</th>\n",
        "      <th>intentional_walks</th>\n",
        "      <th>hits_by_pitch</th>\n",
        "      <th>sacrifice_hits</th>\n",
        "      <th>sacrifice_flies</th>\n",
        "    </tr>\n",
        "  </thead>\n",
        "  <tbody>\n",
        "    <tr>\n",
        "      <th>0</th>\n",
        "      <td> 1871</td>\n",
        "      <td>   Alfred L.</td>\n",
        "      <td>   1</td>\n",
        "      <td>    4</td>\n",
        "      <td>   0</td>\n",
        "      <td>   1</td>\n",
        "      <td>  0</td>\n",
        "      <td>  0</td>\n",
        "      <td>  0</td>\n",
        "      <td>   2</td>\n",
        "      <td>  0</td>\n",
        "      <td>   1</td>\n",
        "      <td>   0</td>\n",
        "      <td>NaN</td>\n",
        "      <td>NaN</td>\n",
        "      <td>NaN</td>\n",
        "      <td>NaN</td>\n",
        "    </tr>\n",
        "    <tr>\n",
        "      <th>1</th>\n",
        "      <td> 1871</td>\n",
        "      <td> Caleb Clark</td>\n",
        "      <td>  16</td>\n",
        "      <td>   67</td>\n",
        "      <td>  10</td>\n",
        "      <td>  15</td>\n",
        "      <td>  1</td>\n",
        "      <td>  0</td>\n",
        "      <td>  0</td>\n",
        "      <td>   7</td>\n",
        "      <td>  1</td>\n",
        "      <td>   0</td>\n",
        "      <td>   1</td>\n",
        "      <td>NaN</td>\n",
        "      <td>NaN</td>\n",
        "      <td>NaN</td>\n",
        "      <td>NaN</td>\n",
        "    </tr>\n",
        "    <tr>\n",
        "      <th>2</th>\n",
        "      <td> 1871</td>\n",
        "      <td>  Charles J.</td>\n",
        "      <td> 278</td>\n",
        "      <td> 1051</td>\n",
        "      <td> 206</td>\n",
        "      <td> 298</td>\n",
        "      <td> 39</td>\n",
        "      <td> 14</td>\n",
        "      <td>  6</td>\n",
        "      <td> 162</td>\n",
        "      <td> 28</td>\n",
        "      <td> 115</td>\n",
        "      <td> 124</td>\n",
        "      <td>NaN</td>\n",
        "      <td>  2</td>\n",
        "      <td>  0</td>\n",
        "      <td>NaN</td>\n",
        "    </tr>\n",
        "    <tr>\n",
        "      <th>3</th>\n",
        "      <td> 1871</td>\n",
        "      <td>  Charles S.</td>\n",
        "      <td> 452</td>\n",
        "      <td> 1753</td>\n",
        "      <td> 307</td>\n",
        "      <td> 492</td>\n",
        "      <td> 67</td>\n",
        "      <td> 46</td>\n",
        "      <td> 19</td>\n",
        "      <td> 280</td>\n",
        "      <td> 93</td>\n",
        "      <td> 168</td>\n",
        "      <td> 105</td>\n",
        "      <td>NaN</td>\n",
        "      <td> 23</td>\n",
        "      <td> 18</td>\n",
        "      <td>NaN</td>\n",
        "    </tr>\n",
        "    <tr>\n",
        "      <th>4</th>\n",
        "      <td> 1871</td>\n",
        "      <td>    Edwin B.</td>\n",
        "      <td>  24</td>\n",
        "      <td>   95</td>\n",
        "      <td>  27</td>\n",
        "      <td>  25</td>\n",
        "      <td>  5</td>\n",
        "      <td>  5</td>\n",
        "      <td>  1</td>\n",
        "      <td>  17</td>\n",
        "      <td>  5</td>\n",
        "      <td>  18</td>\n",
        "      <td>   3</td>\n",
        "      <td>NaN</td>\n",
        "      <td>NaN</td>\n",
        "      <td>NaN</td>\n",
        "      <td>NaN</td>\n",
        "    </tr>\n",
        "  </tbody>\n",
        "</table>\n",
        "</div>"
       ],
       "metadata": {},
       "output_type": "pyout",
       "prompt_number": 6,
       "text": [
        "   yearID    nameGiven  games_as_batter  at_bats  runs  hits  doubles  \\\n",
        "0    1871    Alfred L.                1        4     0     1        0   \n",
        "1    1871  Caleb Clark               16       67    10    15        1   \n",
        "2    1871   Charles J.              278     1051   206   298       39   \n",
        "3    1871   Charles S.              452     1753   307   492       67   \n",
        "4    1871     Edwin B.               24       95    27    25        5   \n",
        "\n",
        "   triples  homeruns  rbi  stolen_bases  walks  strikeouts  intentional_walks  \\\n",
        "0        0         0    2             0      1           0                NaN   \n",
        "1        0         0    7             1      0           1                NaN   \n",
        "2       14         6  162            28    115         124                NaN   \n",
        "3       46        19  280            93    168         105                NaN   \n",
        "4        5         1   17             5     18           3                NaN   \n",
        "\n",
        "   hits_by_pitch  sacrifice_hits  sacrifice_flies  \n",
        "0            NaN             NaN              NaN  \n",
        "1            NaN             NaN              NaN  \n",
        "2              2               0              NaN  \n",
        "3             23              18              NaN  \n",
        "4            NaN             NaN              NaN  "
       ]
      }
     ],
     "prompt_number": 6
    },
    {
     "cell_type": "code",
     "collapsed": false,
     "input": [
      "# count up null values\n",
      "df.isnull().sum()\n",
      "# lots of null values "
     ],
     "language": "python",
     "metadata": {},
     "outputs": [
      {
       "metadata": {},
       "output_type": "pyout",
       "prompt_number": 7,
       "text": [
        "yearID                  0\n",
        "nameGiven               1\n",
        "games_as_batter        52\n",
        "at_bats               306\n",
        "runs                  306\n",
        "hits                  306\n",
        "doubles               306\n",
        "triples               306\n",
        "homeruns              306\n",
        "rbi                   339\n",
        "stolen_bases          355\n",
        "walks                 306\n",
        "strikeouts           1039\n",
        "intentional_walks    4630\n",
        "hits_by_pitch         525\n",
        "sacrifice_hits        928\n",
        "sacrifice_flies      4589\n",
        "dtype: int64"
       ]
      }
     ],
     "prompt_number": 7
    },
    {
     "cell_type": "code",
     "collapsed": false,
     "input": [
      "# Let's drop the columns with the most null values\n",
      "df.drop(['intentional_walks', 'sacrifice_flies'], axis=1, inplace=True)"
     ],
     "language": "python",
     "metadata": {},
     "outputs": [],
     "prompt_number": 8
    },
    {
     "cell_type": "code",
     "collapsed": false,
     "input": [
      "# drop rows with null values\n",
      "df.dropna(how='any', inplace=True)"
     ],
     "language": "python",
     "metadata": {},
     "outputs": [],
     "prompt_number": 9
    },
    {
     "cell_type": "code",
     "collapsed": false,
     "input": [
      "# Start off just using at bats and hits\n",
      "est_0 = smf.ols(formula= 'runs ~ at_bats + hits', data=df).fit()"
     ],
     "language": "python",
     "metadata": {},
     "outputs": [],
     "prompt_number": 10
    },
    {
     "cell_type": "code",
     "collapsed": false,
     "input": [
      "est_0.summary()"
     ],
     "language": "python",
     "metadata": {},
     "outputs": [
      {
       "html": [
        "<table class=\"simpletable\">\n",
        "<caption>OLS Regression Results</caption>\n",
        "<tr>\n",
        "  <th>Dep. Variable:</th>          <td>runs</td>       <th>  R-squared:         </th> <td>   0.983</td> \n",
        "</tr>\n",
        "<tr>\n",
        "  <th>Model:</th>                   <td>OLS</td>       <th>  Adj. R-squared:    </th> <td>   0.983</td> \n",
        "</tr>\n",
        "<tr>\n",
        "  <th>Method:</th>             <td>Least Squares</td>  <th>  F-statistic:       </th> <td>3.078e+05</td>\n",
        "</tr>\n",
        "<tr>\n",
        "  <th>Date:</th>             <td>Tue, 17 Mar 2015</td> <th>  Prob (F-statistic):</th>  <td>  0.00</td>  \n",
        "</tr>\n",
        "<tr>\n",
        "  <th>Time:</th>                 <td>12:02:25</td>     <th>  Log-Likelihood:    </th> <td> -55741.</td> \n",
        "</tr>\n",
        "<tr>\n",
        "  <th>No. Observations:</th>      <td> 10408</td>      <th>  AIC:               </th> <td>1.115e+05</td>\n",
        "</tr>\n",
        "<tr>\n",
        "  <th>Df Residuals:</th>          <td> 10405</td>      <th>  BIC:               </th> <td>1.115e+05</td>\n",
        "</tr>\n",
        "<tr>\n",
        "  <th>Df Model:</th>              <td>     2</td>      <th>                     </th>     <td> </td>    \n",
        "</tr>\n",
        "</table>\n",
        "<table class=\"simpletable\">\n",
        "<tr>\n",
        "      <td></td>         <th>coef</th>     <th>std err</th>      <th>t</th>      <th>P>|t|</th> <th>[95.0% Conf. Int.]</th> \n",
        "</tr>\n",
        "<tr>\n",
        "  <th>Intercept</th> <td>   -4.3043</td> <td>    0.562</td> <td>   -7.655</td> <td> 0.000</td> <td>   -5.406    -3.202</td>\n",
        "</tr>\n",
        "<tr>\n",
        "  <th>at_bats</th>   <td>   -0.0321</td> <td>    0.002</td> <td>  -15.040</td> <td> 0.000</td> <td>   -0.036    -0.028</td>\n",
        "</tr>\n",
        "<tr>\n",
        "  <th>hits</th>      <td>    0.6389</td> <td>    0.008</td> <td>   81.641</td> <td> 0.000</td> <td>    0.624     0.654</td>\n",
        "</tr>\n",
        "</table>\n",
        "<table class=\"simpletable\">\n",
        "<tr>\n",
        "  <th>Omnibus:</th>       <td>7276.146</td> <th>  Durbin-Watson:     </th>  <td>   1.964</td>  \n",
        "</tr>\n",
        "<tr>\n",
        "  <th>Prob(Omnibus):</th>  <td> 0.000</td>  <th>  Jarque-Bera (JB):  </th> <td>1042941.919</td>\n",
        "</tr>\n",
        "<tr>\n",
        "  <th>Skew:</th>           <td> 2.451</td>  <th>  Prob(JB):          </th>  <td>    0.00</td>  \n",
        "</tr>\n",
        "<tr>\n",
        "  <th>Kurtosis:</th>       <td>51.795</td>  <th>  Cond. No.          </th>  <td>3.55e+03</td>  \n",
        "</tr>\n",
        "</table>"
       ],
       "metadata": {},
       "output_type": "pyout",
       "prompt_number": 12,
       "text": [
        "<class 'statsmodels.iolib.summary.Summary'>\n",
        "\"\"\"\n",
        "                            OLS Regression Results                            \n",
        "==============================================================================\n",
        "Dep. Variable:                   runs   R-squared:                       0.983\n",
        "Model:                            OLS   Adj. R-squared:                  0.983\n",
        "Method:                 Least Squares   F-statistic:                 3.078e+05\n",
        "Date:                Tue, 17 Mar 2015   Prob (F-statistic):               0.00\n",
        "Time:                        12:02:25   Log-Likelihood:                -55741.\n",
        "No. Observations:               10408   AIC:                         1.115e+05\n",
        "Df Residuals:                   10405   BIC:                         1.115e+05\n",
        "Df Model:                           2                                         \n",
        "==============================================================================\n",
        "                 coef    std err          t      P>|t|      [95.0% Conf. Int.]\n",
        "------------------------------------------------------------------------------\n",
        "Intercept     -4.3043      0.562     -7.655      0.000        -5.406    -3.202\n",
        "at_bats       -0.0321      0.002    -15.040      0.000        -0.036    -0.028\n",
        "hits           0.6389      0.008     81.641      0.000         0.624     0.654\n",
        "==============================================================================\n",
        "Omnibus:                     7276.146   Durbin-Watson:                   1.964\n",
        "Prob(Omnibus):                  0.000   Jarque-Bera (JB):          1042941.919\n",
        "Skew:                           2.451   Prob(JB):                         0.00\n",
        "Kurtosis:                      51.795   Cond. No.                     3.55e+03\n",
        "==============================================================================\n",
        "\n",
        "Warnings:\n",
        "[1] The condition number is large, 3.55e+03. This might indicate that there are\n",
        "strong multicollinearity or other numerical problems.\n",
        "\"\"\""
       ]
      }
     ],
     "prompt_number": 12
    },
    {
     "cell_type": "code",
     "collapsed": false,
     "input": [
      "print est_0.rsquared"
     ],
     "language": "python",
     "metadata": {},
     "outputs": [
      {
       "output_type": "stream",
       "stream": "stdout",
       "text": [
        "0.983379892242\n"
       ]
      }
     ],
     "prompt_number": 13
    },
    {
     "cell_type": "code",
     "collapsed": false,
     "input": [
      "# r-squared: .98 - not bad"
     ],
     "language": "python",
     "metadata": {},
     "outputs": [],
     "prompt_number": 14
    },
    {
     "cell_type": "code",
     "collapsed": false,
     "input": [
      "# predict with model 0\n",
      "df['yhat_0'] = est_0.predict(df)\n",
      "\n",
      "# look at residuals\n",
      "df['residuals_0'] = df.runs - df.yhat_0\n",
      "\n",
      "plt = df.plot(x='yhat_0', y='residuals_0', kind='scatter')\n",
      "# range seems to grow wider at higher y-hat values - heteroskedacity? a classic example.\n",
      "# less accuracy at higher values of runs"
     ],
     "language": "python",
     "metadata": {},
     "outputs": [
      {
       "metadata": {},
       "output_type": "display_data",
       "png": "[encoded data removed]",
       "text": [
        "<matplotlib.figure.Figure at 0x10cfae610>"
       ]
      }
     ],
     "prompt_number": 30
    },
    {
     "cell_type": "code",
     "collapsed": false,
     "input": [],
     "language": "python",
     "metadata": {},
     "outputs": [
      {
       "metadata": {},
       "output_type": "pyout",
       "prompt_number": 22,
       "text": [
        "<matplotlib.axes._subplots.AxesSubplot at 0x10b53c690>"
       ]
      }
     ],
     "prompt_number": 22
    },
    {
     "cell_type": "code",
     "collapsed": false,
     "input": [
      "###################\n",
      "\n",
      "# Look at other features\n",
      "est_1 = smf.ols(formula='runs ~ doubles + triples + homeruns + rbi + stolen_bases + walks + strikeouts + hits_by_pitch + sacrifice_hits', data=df).fit()"
     ],
     "language": "python",
     "metadata": {},
     "outputs": [],
     "prompt_number": 23
    },
    {
     "cell_type": "code",
     "collapsed": false,
     "input": [
      "est_1.summary()"
     ],
     "language": "python",
     "metadata": {},
     "outputs": [
      {
       "html": [
        "<table class=\"simpletable\">\n",
        "<caption>OLS Regression Results</caption>\n",
        "<tr>\n",
        "  <th>Dep. Variable:</th>          <td>runs</td>       <th>  R-squared:         </th> <td>   0.990</td> \n",
        "</tr>\n",
        "<tr>\n",
        "  <th>Model:</th>                   <td>OLS</td>       <th>  Adj. R-squared:    </th> <td>   0.990</td> \n",
        "</tr>\n",
        "<tr>\n",
        "  <th>Method:</th>             <td>Least Squares</td>  <th>  F-statistic:       </th> <td>1.139e+05</td>\n",
        "</tr>\n",
        "<tr>\n",
        "  <th>Date:</th>             <td>Tue, 17 Mar 2015</td> <th>  Prob (F-statistic):</th>  <td>  0.00</td>  \n",
        "</tr>\n",
        "<tr>\n",
        "  <th>Time:</th>                 <td>12:06:45</td>     <th>  Log-Likelihood:    </th> <td> -53117.</td> \n",
        "</tr>\n",
        "<tr>\n",
        "  <th>No. Observations:</th>      <td> 10408</td>      <th>  AIC:               </th> <td>1.063e+05</td>\n",
        "</tr>\n",
        "<tr>\n",
        "  <th>Df Residuals:</th>          <td> 10398</td>      <th>  BIC:               </th> <td>1.063e+05</td>\n",
        "</tr>\n",
        "<tr>\n",
        "  <th>Df Model:</th>              <td>     9</td>      <th>                     </th>     <td> </td>    \n",
        "</tr>\n",
        "</table>\n",
        "<table class=\"simpletable\">\n",
        "<tr>\n",
        "         <td></td>           <th>coef</th>     <th>std err</th>      <th>t</th>      <th>P>|t|</th> <th>[95.0% Conf. Int.]</th> \n",
        "</tr>\n",
        "<tr>\n",
        "  <th>Intercept</th>      <td>   -0.6436</td> <td>    0.449</td> <td>   -1.435</td> <td> 0.151</td> <td>   -1.523     0.236</td>\n",
        "</tr>\n",
        "<tr>\n",
        "  <th>doubles</th>        <td>    0.8334</td> <td>    0.019</td> <td>   45.033</td> <td> 0.000</td> <td>    0.797     0.870</td>\n",
        "</tr>\n",
        "<tr>\n",
        "  <th>triples</th>        <td>    1.8325</td> <td>    0.043</td> <td>   42.512</td> <td> 0.000</td> <td>    1.748     1.917</td>\n",
        "</tr>\n",
        "<tr>\n",
        "  <th>homeruns</th>       <td>    0.0192</td> <td>    0.023</td> <td>    0.830</td> <td> 0.406</td> <td>   -0.026     0.065</td>\n",
        "</tr>\n",
        "<tr>\n",
        "  <th>rbi</th>            <td>    0.2751</td> <td>    0.009</td> <td>   30.094</td> <td> 0.000</td> <td>    0.257     0.293</td>\n",
        "</tr>\n",
        "<tr>\n",
        "  <th>stolen_bases</th>   <td>    0.6206</td> <td>    0.009</td> <td>   67.216</td> <td> 0.000</td> <td>    0.603     0.639</td>\n",
        "</tr>\n",
        "<tr>\n",
        "  <th>walks</th>          <td>    0.3168</td> <td>    0.005</td> <td>   63.024</td> <td> 0.000</td> <td>    0.307     0.327</td>\n",
        "</tr>\n",
        "<tr>\n",
        "  <th>strikeouts</th>     <td>    0.0156</td> <td>    0.003</td> <td>    4.674</td> <td> 0.000</td> <td>    0.009     0.022</td>\n",
        "</tr>\n",
        "<tr>\n",
        "  <th>hits_by_pitch</th>  <td>    0.3715</td> <td>    0.030</td> <td>   12.203</td> <td> 0.000</td> <td>    0.312     0.431</td>\n",
        "</tr>\n",
        "<tr>\n",
        "  <th>sacrifice_hits</th> <td>   -0.0856</td> <td>    0.016</td> <td>   -5.321</td> <td> 0.000</td> <td>   -0.117    -0.054</td>\n",
        "</tr>\n",
        "</table>\n",
        "<table class=\"simpletable\">\n",
        "<tr>\n",
        "  <th>Omnibus:</th>       <td>6147.640</td> <th>  Durbin-Watson:     </th>  <td>   1.889</td>  \n",
        "</tr>\n",
        "<tr>\n",
        "  <th>Prob(Omnibus):</th>  <td> 0.000</td>  <th>  Jarque-Bera (JB):  </th> <td>1650223.312</td>\n",
        "</tr>\n",
        "<tr>\n",
        "  <th>Skew:</th>           <td> 1.674</td>  <th>  Prob(JB):          </th>  <td>    0.00</td>  \n",
        "</tr>\n",
        "<tr>\n",
        "  <th>Kurtosis:</th>       <td>64.596</td>  <th>  Cond. No.          </th>  <td>    731.</td>  \n",
        "</tr>\n",
        "</table>"
       ],
       "metadata": {},
       "output_type": "pyout",
       "prompt_number": 26,
       "text": [
        "<class 'statsmodels.iolib.summary.Summary'>\n",
        "\"\"\"\n",
        "                            OLS Regression Results                            \n",
        "==============================================================================\n",
        "Dep. Variable:                   runs   R-squared:                       0.990\n",
        "Model:                            OLS   Adj. R-squared:                  0.990\n",
        "Method:                 Least Squares   F-statistic:                 1.139e+05\n",
        "Date:                Tue, 17 Mar 2015   Prob (F-statistic):               0.00\n",
        "Time:                        12:06:45   Log-Likelihood:                -53117.\n",
        "No. Observations:               10408   AIC:                         1.063e+05\n",
        "Df Residuals:                   10398   BIC:                         1.063e+05\n",
        "Df Model:                           9                                         \n",
        "==================================================================================\n",
        "                     coef    std err          t      P>|t|      [95.0% Conf. Int.]\n",
        "----------------------------------------------------------------------------------\n",
        "Intercept         -0.6436      0.449     -1.435      0.151        -1.523     0.236\n",
        "doubles            0.8334      0.019     45.033      0.000         0.797     0.870\n",
        "triples            1.8325      0.043     42.512      0.000         1.748     1.917\n",
        "homeruns           0.0192      0.023      0.830      0.406        -0.026     0.065\n",
        "rbi                0.2751      0.009     30.094      0.000         0.257     0.293\n",
        "stolen_bases       0.6206      0.009     67.216      0.000         0.603     0.639\n",
        "walks              0.3168      0.005     63.024      0.000         0.307     0.327\n",
        "strikeouts         0.0156      0.003      4.674      0.000         0.009     0.022\n",
        "hits_by_pitch      0.3715      0.030     12.203      0.000         0.312     0.431\n",
        "sacrifice_hits    -0.0856      0.016     -5.321      0.000        -0.117    -0.054\n",
        "==============================================================================\n",
        "Omnibus:                     6147.640   Durbin-Watson:                   1.889\n",
        "Prob(Omnibus):                  0.000   Jarque-Bera (JB):          1650223.312\n",
        "Skew:                           1.674   Prob(JB):                         0.00\n",
        "Kurtosis:                      64.596   Cond. No.                         731.\n",
        "==============================================================================\n",
        "\"\"\""
       ]
      }
     ],
     "prompt_number": 26
    },
    {
     "cell_type": "code",
     "collapsed": false,
     "input": [
      "print est_1.rsquared # 98.99%"
     ],
     "language": "python",
     "metadata": {},
     "outputs": [
      {
       "output_type": "stream",
       "stream": "stdout",
       "text": [
        "0.989961660294\n"
       ]
      }
     ],
     "prompt_number": 27
    },
    {
     "cell_type": "code",
     "collapsed": false,
     "input": [
      "# predict with model 1\n",
      "df['yhat_1'] = est_1.predict(df)\n",
      "df['residuals_1'] = df.runs - df.yhat_1"
     ],
     "language": "python",
     "metadata": {},
     "outputs": [],
     "prompt_number": 28
    },
    {
     "cell_type": "code",
     "collapsed": false,
     "input": [
      "plt = df.plot(x='yhat_1', y='residuals_1', kind='scatter')"
     ],
     "language": "python",
     "metadata": {},
     "outputs": [
      {
       "metadata": {},
       "output_type": "display_data",
       "png": "[encoded data removed]",
       "text": [
        "<matplotlib.figure.Figure at 0x1091f8ad0>"
       ]
      }
     ],
     "prompt_number": 29
    },
    {
     "cell_type": "code",
     "collapsed": false,
     "input": [
      "# calculate RMSE\n",
      "RMSE_1 = (((df.residuals_1)**2)**(1/2)).mean()"
     ],
     "language": "python",
     "metadata": {},
     "outputs": [],
     "prompt_number": 31
    },
    {
     "cell_type": "code",
     "collapsed": false,
     "input": [
      "RMSE_1"
     ],
     "language": "python",
     "metadata": {},
     "outputs": [
      {
       "metadata": {},
       "output_type": "pyout",
       "prompt_number": 32,
       "text": [
        "15.780769362779989"
       ]
      }
     ],
     "prompt_number": 32
    },
    {
     "cell_type": "code",
     "collapsed": false,
     "input": [
      "percent_avg_dev_1 = RMSE_1 / df.runs.mean()\n",
      "percent_avg_dev_1"
     ],
     "language": "python",
     "metadata": {},
     "outputs": [
      {
       "metadata": {},
       "output_type": "pyout",
       "prompt_number": 33,
       "text": [
        "0.091748966594130246"
       ]
      }
     ],
     "prompt_number": 33
    },
    {
     "cell_type": "code",
     "collapsed": false,
     "input": [
      "print RMSE_1\n",
      "print 'average deviation model 1: {0}%'.format(round(percent_avg_dev_1*100, 1))"
     ],
     "language": "python",
     "metadata": {},
     "outputs": [
      {
       "output_type": "stream",
       "stream": "stdout",
       "text": [
        "15.7807693628\n",
        "average deviation model 1: 9.2%\n"
       ]
      }
     ],
     "prompt_number": 34
    },
    {
     "cell_type": "code",
     "collapsed": false,
     "input": [
      "# Use a combination of intuitively relevant features\n",
      "est_2 = smf.ols(formula='runs ~ hits + triples + homeruns + stolen_bases + rbi + strikeouts', data=df).fit()"
     ],
     "language": "python",
     "metadata": {},
     "outputs": [],
     "prompt_number": 35
    },
    {
     "cell_type": "code",
     "collapsed": false,
     "input": [
      "est_2.summary()"
     ],
     "language": "python",
     "metadata": {},
     "outputs": [
      {
       "html": [
        "<table class=\"simpletable\">\n",
        "<caption>OLS Regression Results</caption>\n",
        "<tr>\n",
        "  <th>Dep. Variable:</th>          <td>runs</td>       <th>  R-squared:         </th> <td>   0.991</td> \n",
        "</tr>\n",
        "<tr>\n",
        "  <th>Model:</th>                   <td>OLS</td>       <th>  Adj. R-squared:    </th> <td>   0.991</td> \n",
        "</tr>\n",
        "<tr>\n",
        "  <th>Method:</th>             <td>Least Squares</td>  <th>  F-statistic:       </th> <td>1.896e+05</td>\n",
        "</tr>\n",
        "<tr>\n",
        "  <th>Date:</th>             <td>Tue, 17 Mar 2015</td> <th>  Prob (F-statistic):</th>  <td>  0.00</td>  \n",
        "</tr>\n",
        "<tr>\n",
        "  <th>Time:</th>                 <td>12:08:30</td>     <th>  Log-Likelihood:    </th> <td> -52582.</td> \n",
        "</tr>\n",
        "<tr>\n",
        "  <th>No. Observations:</th>      <td> 10408</td>      <th>  AIC:               </th> <td>1.052e+05</td>\n",
        "</tr>\n",
        "<tr>\n",
        "  <th>Df Residuals:</th>          <td> 10401</td>      <th>  BIC:               </th> <td>1.052e+05</td>\n",
        "</tr>\n",
        "<tr>\n",
        "  <th>Df Model:</th>              <td>     6</td>      <th>                     </th>     <td> </td>    \n",
        "</tr>\n",
        "</table>\n",
        "<table class=\"simpletable\">\n",
        "<tr>\n",
        "        <td></td>          <th>coef</th>     <th>std err</th>      <th>t</th>      <th>P>|t|</th> <th>[95.0% Conf. Int.]</th> \n",
        "</tr>\n",
        "<tr>\n",
        "  <th>Intercept</th>    <td>   -1.3169</td> <td>    0.423</td> <td>   -3.110</td> <td> 0.002</td> <td>   -2.147    -0.487</td>\n",
        "</tr>\n",
        "<tr>\n",
        "  <th>hits</th>         <td>    0.3725</td> <td>    0.004</td> <td>   95.722</td> <td> 0.000</td> <td>    0.365     0.380</td>\n",
        "</tr>\n",
        "<tr>\n",
        "  <th>triples</th>      <td>    1.2784</td> <td>    0.040</td> <td>   31.725</td> <td> 0.000</td> <td>    1.199     1.357</td>\n",
        "</tr>\n",
        "<tr>\n",
        "  <th>homeruns</th>     <td>    0.8784</td> <td>    0.021</td> <td>   41.903</td> <td> 0.000</td> <td>    0.837     0.919</td>\n",
        "</tr>\n",
        "<tr>\n",
        "  <th>stolen_bases</th> <td>    0.5536</td> <td>    0.009</td> <td>   63.479</td> <td> 0.000</td> <td>    0.536     0.571</td>\n",
        "</tr>\n",
        "<tr>\n",
        "  <th>rbi</th>          <td>   -0.0121</td> <td>    0.010</td> <td>   -1.266</td> <td> 0.206</td> <td>   -0.031     0.007</td>\n",
        "</tr>\n",
        "<tr>\n",
        "  <th>strikeouts</th>   <td>   -0.0266</td> <td>    0.003</td> <td>   -8.407</td> <td> 0.000</td> <td>   -0.033    -0.020</td>\n",
        "</tr>\n",
        "</table>\n",
        "<table class=\"simpletable\">\n",
        "<tr>\n",
        "  <th>Omnibus:</th>       <td>4719.701</td> <th>  Durbin-Watson:     </th>  <td>   1.934</td> \n",
        "</tr>\n",
        "<tr>\n",
        "  <th>Prob(Omnibus):</th>  <td> 0.000</td>  <th>  Jarque-Bera (JB):  </th> <td>432727.699</td>\n",
        "</tr>\n",
        "<tr>\n",
        "  <th>Skew:</th>           <td> 1.254</td>  <th>  Prob(JB):          </th>  <td>    0.00</td> \n",
        "</tr>\n",
        "<tr>\n",
        "  <th>Kurtosis:</th>       <td>34.489</td>  <th>  Cond. No.          </th>  <td>1.12e+03</td> \n",
        "</tr>\n",
        "</table>"
       ],
       "metadata": {},
       "output_type": "pyout",
       "prompt_number": 36,
       "text": [
        "<class 'statsmodels.iolib.summary.Summary'>\n",
        "\"\"\"\n",
        "                            OLS Regression Results                            \n",
        "==============================================================================\n",
        "Dep. Variable:                   runs   R-squared:                       0.991\n",
        "Model:                            OLS   Adj. R-squared:                  0.991\n",
        "Method:                 Least Squares   F-statistic:                 1.896e+05\n",
        "Date:                Tue, 17 Mar 2015   Prob (F-statistic):               0.00\n",
        "Time:                        12:08:30   Log-Likelihood:                -52582.\n",
        "No. Observations:               10408   AIC:                         1.052e+05\n",
        "Df Residuals:                   10401   BIC:                         1.052e+05\n",
        "Df Model:                           6                                         \n",
        "================================================================================\n",
        "                   coef    std err          t      P>|t|      [95.0% Conf. Int.]\n",
        "--------------------------------------------------------------------------------\n",
        "Intercept       -1.3169      0.423     -3.110      0.002        -2.147    -0.487\n",
        "hits             0.3725      0.004     95.722      0.000         0.365     0.380\n",
        "triples          1.2784      0.040     31.725      0.000         1.199     1.357\n",
        "homeruns         0.8784      0.021     41.903      0.000         0.837     0.919\n",
        "stolen_bases     0.5536      0.009     63.479      0.000         0.536     0.571\n",
        "rbi             -0.0121      0.010     -1.266      0.206        -0.031     0.007\n",
        "strikeouts      -0.0266      0.003     -8.407      0.000        -0.033    -0.020\n",
        "==============================================================================\n",
        "Omnibus:                     4719.701   Durbin-Watson:                   1.934\n",
        "Prob(Omnibus):                  0.000   Jarque-Bera (JB):           432727.699\n",
        "Skew:                           1.254   Prob(JB):                         0.00\n",
        "Kurtosis:                      34.489   Cond. No.                     1.12e+03\n",
        "==============================================================================\n",
        "\n",
        "Warnings:\n",
        "[1] The condition number is large, 1.12e+03. This might indicate that there are\n",
        "strong multicollinearity or other numerical problems.\n",
        "\"\"\""
       ]
      }
     ],
     "prompt_number": 36
    },
    {
     "cell_type": "code",
     "collapsed": false,
     "input": [
      "print est_2.rsquared # 0.99 a big improvement"
     ],
     "language": "python",
     "metadata": {},
     "outputs": [
      {
       "output_type": "stream",
       "stream": "stdout",
       "text": [
        "0.990942218\n"
       ]
      }
     ],
     "prompt_number": 37
    },
    {
     "cell_type": "code",
     "collapsed": false,
     "input": [
      "# predict with model 1\n",
      "df['yhat_2'] = est_2.predict(df)\n",
      "\n",
      "df['residuals_2'] = df.runs - df.yhat_2"
     ],
     "language": "python",
     "metadata": {},
     "outputs": [],
     "prompt_number": 38
    },
    {
     "cell_type": "code",
     "collapsed": false,
     "input": [
      "# a similar plot to model 0\n",
      "plt = df.plot(x='yhat_2', y='residuals_2', kind='scatter')"
     ],
     "language": "python",
     "metadata": {},
     "outputs": [
      {
       "metadata": {},
       "output_type": "display_data",
       "png": "[encoded data removed]",
       "text": [
        "<matplotlib.figure.Figure at 0x10cfbf890>"
       ]
      }
     ],
     "prompt_number": 40
    },
    {
     "cell_type": "code",
     "collapsed": false,
     "input": [
      "RMSE_2 = (((df.residuals_2)**2)**(1/2)).mean()\n",
      "RMSE_2"
     ],
     "language": "python",
     "metadata": {},
     "outputs": [
      {
       "metadata": {},
       "output_type": "pyout",
       "prompt_number": 42,
       "text": [
        "15.487750411820782"
       ]
      }
     ],
     "prompt_number": 42
    },
    {
     "cell_type": "code",
     "collapsed": false,
     "input": [
      "percent_avg_dev_2 = RMSE_2 / df.runs.mean()\n",
      "print 'average deviation model 2: {0}%'.format(round(percent_avg_dev_2*100, 1))"
     ],
     "language": "python",
     "metadata": {},
     "outputs": [
      {
       "output_type": "stream",
       "stream": "stdout",
       "text": [
        "average deviation model 2: 9.0%\n"
       ]
      }
     ],
     "prompt_number": 43
    },
    {
     "cell_type": "code",
     "collapsed": false,
     "input": [
      "# let's now add in years as a variable\n",
      "# Create some categrical variables for year based on baseball's eras\n",
      "df['pre_1900'] = 0 # olden days\n",
      "df.pre_1900[df.yearID<=1900] = 1\n",
      "\n",
      "df['years_1901_1919'] = 0 # something called the dead-ball era\n",
      "df.years_1901_1919[(df.yearID>1900) & (df.yearID<=1919)] = 1 \n",
      "\n",
      "df['years_1920_1941'] = 0 # babe ruth era\n",
      "df.years_1920_1941[(df.yearID>1919) & (df.yearID<=1941)] = 1 \n",
      "\n",
      "df['years_1942_1965'] = 0 # post-war\n",
      "df.years_1942_1965[(df.yearID>1941) & (df.yearID<=1965)] = 1 \n",
      "\n",
      "df['years_1966_1975'] = 0 \n",
      "df.years_1966_1975[(df.yearID>1965) & (df.yearID<=1975)] = 1 \n",
      "\n",
      "df['years_1976_1995'] = 0 # free-agents, steroids, and the like\n",
      "df.years_1976_1995[(df.yearID>1975) & (df.yearID<=1995)] = 1 \n",
      "# everything else will be considered more modern times\n",
      "\n",
      "# augmented model\n",
      "eq_years = 'runs ~ hits + triples + homeruns + stolen_bases + rbi + strikeouts + \\\n",
      "                pre_1900 + years_1901_1919 + years_1920_1941 + years_1942_1965 + years_1966_1975 + years_1976_1995'\n",
      "est_years = smf.ols(formula=eq_years, data=df).fit()"
     ],
     "language": "python",
     "metadata": {},
     "outputs": [],
     "prompt_number": 45
    },
    {
     "cell_type": "code",
     "collapsed": false,
     "input": [
      "est_years.summary()"
     ],
     "language": "python",
     "metadata": {},
     "outputs": [
      {
       "html": [
        "<table class=\"simpletable\">\n",
        "<caption>OLS Regression Results</caption>\n",
        "<tr>\n",
        "  <th>Dep. Variable:</th>          <td>runs</td>       <th>  R-squared:         </th> <td>   0.991</td> \n",
        "</tr>\n",
        "<tr>\n",
        "  <th>Model:</th>                   <td>OLS</td>       <th>  Adj. R-squared:    </th> <td>   0.991</td> \n",
        "</tr>\n",
        "<tr>\n",
        "  <th>Method:</th>             <td>Least Squares</td>  <th>  F-statistic:       </th> <td>9.649e+04</td>\n",
        "</tr>\n",
        "<tr>\n",
        "  <th>Date:</th>             <td>Tue, 17 Mar 2015</td> <th>  Prob (F-statistic):</th>  <td>  0.00</td>  \n",
        "</tr>\n",
        "<tr>\n",
        "  <th>Time:</th>                 <td>12:10:16</td>     <th>  Log-Likelihood:    </th> <td> -52490.</td> \n",
        "</tr>\n",
        "<tr>\n",
        "  <th>No. Observations:</th>      <td> 10408</td>      <th>  AIC:               </th> <td>1.050e+05</td>\n",
        "</tr>\n",
        "<tr>\n",
        "  <th>Df Residuals:</th>          <td> 10395</td>      <th>  BIC:               </th> <td>1.051e+05</td>\n",
        "</tr>\n",
        "<tr>\n",
        "  <th>Df Model:</th>              <td>    12</td>      <th>                     </th>     <td> </td>    \n",
        "</tr>\n",
        "</table>\n",
        "<table class=\"simpletable\">\n",
        "<tr>\n",
        "         <td></td>            <th>coef</th>     <th>std err</th>      <th>t</th>      <th>P>|t|</th> <th>[95.0% Conf. Int.]</th> \n",
        "</tr>\n",
        "<tr>\n",
        "  <th>Intercept</th>       <td>   -0.3860</td> <td>    0.704</td> <td>   -0.548</td> <td> 0.584</td> <td>   -1.767     0.995</td>\n",
        "</tr>\n",
        "<tr>\n",
        "  <th>hits</th>            <td>    0.3764</td> <td>    0.004</td> <td>   96.925</td> <td> 0.000</td> <td>    0.369     0.384</td>\n",
        "</tr>\n",
        "<tr>\n",
        "  <th>triples</th>         <td>    1.2565</td> <td>    0.040</td> <td>   31.197</td> <td> 0.000</td> <td>    1.178     1.335</td>\n",
        "</tr>\n",
        "<tr>\n",
        "  <th>homeruns</th>        <td>    0.8945</td> <td>    0.021</td> <td>   42.881</td> <td> 0.000</td> <td>    0.854     0.935</td>\n",
        "</tr>\n",
        "<tr>\n",
        "  <th>stolen_bases</th>    <td>    0.5536</td> <td>    0.009</td> <td>   63.347</td> <td> 0.000</td> <td>    0.536     0.571</td>\n",
        "</tr>\n",
        "<tr>\n",
        "  <th>rbi</th>             <td>   -0.0222</td> <td>    0.010</td> <td>   -2.334</td> <td> 0.020</td> <td>   -0.041    -0.004</td>\n",
        "</tr>\n",
        "<tr>\n",
        "  <th>strikeouts</th>      <td>   -0.0260</td> <td>    0.003</td> <td>   -8.224</td> <td> 0.000</td> <td>   -0.032    -0.020</td>\n",
        "</tr>\n",
        "<tr>\n",
        "  <th>pre_1900</th>        <td>   22.5724</td> <td>    2.453</td> <td>    9.202</td> <td> 0.000</td> <td>   17.764    27.381</td>\n",
        "</tr>\n",
        "<tr>\n",
        "  <th>years_1901_1919</th> <td>   -5.7805</td> <td>    1.387</td> <td>   -4.167</td> <td> 0.000</td> <td>   -8.500    -3.061</td>\n",
        "</tr>\n",
        "<tr>\n",
        "  <th>years_1920_1941</th> <td>    0.2208</td> <td>    1.176</td> <td>    0.188</td> <td> 0.851</td> <td>   -2.084     2.525</td>\n",
        "</tr>\n",
        "<tr>\n",
        "  <th>years_1942_1965</th> <td>    2.5763</td> <td>    1.109</td> <td>    2.322</td> <td> 0.020</td> <td>    0.401     4.751</td>\n",
        "</tr>\n",
        "<tr>\n",
        "  <th>years_1966_1975</th> <td>   -4.5229</td> <td>    1.544</td> <td>   -2.929</td> <td> 0.003</td> <td>   -7.550    -1.496</td>\n",
        "</tr>\n",
        "<tr>\n",
        "  <th>years_1976_1995</th> <td>   -6.9554</td> <td>    1.129</td> <td>   -6.158</td> <td> 0.000</td> <td>   -9.169    -4.741</td>\n",
        "</tr>\n",
        "</table>\n",
        "<table class=\"simpletable\">\n",
        "<tr>\n",
        "  <th>Omnibus:</th>       <td>4611.865</td> <th>  Durbin-Watson:     </th>  <td>   1.969</td> \n",
        "</tr>\n",
        "<tr>\n",
        "  <th>Prob(Omnibus):</th>  <td> 0.000</td>  <th>  Jarque-Bera (JB):  </th> <td>423160.011</td>\n",
        "</tr>\n",
        "<tr>\n",
        "  <th>Skew:</th>           <td> 1.203</td>  <th>  Prob(JB):          </th>  <td>    0.00</td> \n",
        "</tr>\n",
        "<tr>\n",
        "  <th>Kurtosis:</th>       <td>34.145</td>  <th>  Cond. No.          </th>  <td>6.85e+03</td> \n",
        "</tr>\n",
        "</table>"
       ],
       "metadata": {},
       "output_type": "pyout",
       "prompt_number": 46,
       "text": [
        "<class 'statsmodels.iolib.summary.Summary'>\n",
        "\"\"\"\n",
        "                            OLS Regression Results                            \n",
        "==============================================================================\n",
        "Dep. Variable:                   runs   R-squared:                       0.991\n",
        "Model:                            OLS   Adj. R-squared:                  0.991\n",
        "Method:                 Least Squares   F-statistic:                 9.649e+04\n",
        "Date:                Tue, 17 Mar 2015   Prob (F-statistic):               0.00\n",
        "Time:                        12:10:16   Log-Likelihood:                -52490.\n",
        "No. Observations:               10408   AIC:                         1.050e+05\n",
        "Df Residuals:                   10395   BIC:                         1.051e+05\n",
        "Df Model:                          12                                         \n",
        "===================================================================================\n",
        "                      coef    std err          t      P>|t|      [95.0% Conf. Int.]\n",
        "-----------------------------------------------------------------------------------\n",
        "Intercept          -0.3860      0.704     -0.548      0.584        -1.767     0.995\n",
        "hits                0.3764      0.004     96.925      0.000         0.369     0.384\n",
        "triples             1.2565      0.040     31.197      0.000         1.178     1.335\n",
        "homeruns            0.8945      0.021     42.881      0.000         0.854     0.935\n",
        "stolen_bases        0.5536      0.009     63.347      0.000         0.536     0.571\n",
        "rbi                -0.0222      0.010     -2.334      0.020        -0.041    -0.004\n",
        "strikeouts         -0.0260      0.003     -8.224      0.000        -0.032    -0.020\n",
        "pre_1900           22.5724      2.453      9.202      0.000        17.764    27.381\n",
        "years_1901_1919    -5.7805      1.387     -4.167      0.000        -8.500    -3.061\n",
        "years_1920_1941     0.2208      1.176      0.188      0.851        -2.084     2.525\n",
        "years_1942_1965     2.5763      1.109      2.322      0.020         0.401     4.751\n",
        "years_1966_1975    -4.5229      1.544     -2.929      0.003        -7.550    -1.496\n",
        "years_1976_1995    -6.9554      1.129     -6.158      0.000        -9.169    -4.741\n",
        "==============================================================================\n",
        "Omnibus:                     4611.865   Durbin-Watson:                   1.969\n",
        "Prob(Omnibus):                  0.000   Jarque-Bera (JB):           423160.011\n",
        "Skew:                           1.203   Prob(JB):                         0.00\n",
        "Kurtosis:                      34.145   Cond. No.                     6.85e+03\n",
        "==============================================================================\n",
        "\n",
        "Warnings:\n",
        "[1] The condition number is large, 6.85e+03. This might indicate that there are\n",
        "strong multicollinearity or other numerical problems.\n",
        "\"\"\""
       ]
      }
     ],
     "prompt_number": 46
    },
    {
     "cell_type": "code",
     "collapsed": false,
     "input": [
      "est_years.rsquared\n",
      "# Looks like some of the earlier year bins have poor p-values.\n",
      "# Likely not a lot of data in these eras."
     ],
     "language": "python",
     "metadata": {},
     "outputs": [
      {
       "metadata": {},
       "output_type": "pyout",
       "prompt_number": 48,
       "text": [
        "0.9911018608086799"
       ]
      }
     ],
     "prompt_number": 48
    },
    {
     "cell_type": "code",
     "collapsed": false,
     "input": [
      "# predict\n",
      "df['yhat_years'] = est_years.predict(df)\n",
      "# Check out residuals\n",
      "df['residuals_years'] = df.runs - df.yhat_years\n",
      "plt = df.plot(x='yhat_years', y='residuals_years', kind='scatter')\n",
      "# clustered on the lower end of yhat_2 but pretty even distribution of residuals\n",
      "# could be that the model is poor at predicting outliers/very high number of avg runs"
     ],
     "language": "python",
     "metadata": {},
     "outputs": [
      {
       "metadata": {},
       "output_type": "display_data",
       "png": "[encoded data removed]",
       "text": [
        "<matplotlib.figure.Figure at 0x10b7cbe50>"
       ]
      }
     ],
     "prompt_number": 52
    },
    {
     "cell_type": "code",
     "collapsed": false,
     "input": [
      "RMSE_years = (((df.residuals_years)**2)**(1/2)).mean()\n",
      "percent_avg_dev_years = RMSE_years / df.runs.mean()\n",
      "print RMSE_years\n",
      "print 'average deviation model 2: {0}%'.format(round(percent_avg_dev_years*100, 1))\n",
      "# 9.4% deviation - slightly higher"
     ],
     "language": "python",
     "metadata": {},
     "outputs": [
      {
       "output_type": "stream",
       "stream": "stdout",
       "text": [
        "16.1139698486\n",
        "average deviation model 2: 9.4%\n"
       ]
      }
     ],
     "prompt_number": 53
    },
    {
     "cell_type": "code",
     "collapsed": false,
     "input": [
      "# Seems like we've gotten pretty close\n",
      "# let's look at data after 2005.\n",
      "conn = sqlite3.connect('../../data/lahman2013.sqlite')\n",
      "# creating an object contraining a string that has the SQL query. \n",
      "sql = \"\"\"\n",
      "select nameGiven, yearID,\n",
      "\t sum(G_batting) as games_as_batter,\n",
      " \t sum(AB) as at_bats,\n",
      "\t sum(R) as runs, \n",
      "\t sum(H) as hits, \n",
      "       sum(\"2B\") as doubles,\n",
      "       sum(\"3B\") as triples,\n",
      "       sum(HR) as homeruns,\n",
      "       sum(RBI) as rbi,\n",
      "\t sum(SB) as stolen_bases,  \n",
      "\t sum(BB) as walks,\n",
      "\t sum(SO) as strikeouts,\n",
      "       sum(HBP) as hits_by_pitch,\n",
      "       sum(SH) as sacrifice_hits\n",
      "from Batting INNER JOIN Master ON Batting.playerId = Master.playerID\n",
      "where yearID >= 2005\n",
      "group by nameGiven\n",
      "order by yearID ASC;\n",
      "\"\"\"\n",
      "\n",
      "df_post_2005 = pandas.read_sql(sql, conn)\n",
      "conn.close()"
     ],
     "language": "python",
     "metadata": {},
     "outputs": [],
     "prompt_number": 54
    },
    {
     "cell_type": "code",
     "collapsed": false,
     "input": [
      "df_post_2005.dropna(how='any', inplace=True)"
     ],
     "language": "python",
     "metadata": {},
     "outputs": [],
     "prompt_number": 55
    },
    {
     "cell_type": "code",
     "collapsed": false,
     "input": [
      "# re-create the dummy features for the new data.\n",
      "# all 0 because post-1995 is not itself a column\n",
      "df_post_2005['pre_1900'] = 0 \n",
      "df_post_2005['years_1901_1919'] = 0 \n",
      "df_post_2005['years_1920_1941'] = 0 \n",
      "df_post_2005['years_1942_1965'] = 0\n",
      "df_post_2005['years_1966_1975'] = 0 \n",
      "df_post_2005['years_1976_1995'] = 0 \n",
      "\n",
      "# Use last two model on out-of-sample data\n",
      "df_post_2005['yhat_2'] = est_2.predict(df_post_2005)\n",
      "df_post_2005['yhat_years'] = est_years.predict(df_post_2005)\n",
      "\n",
      "# Residuals\n",
      "df_post_2005['residuals_2'] = df_post_2005.runs - df_post_2005.yhat_2\n",
      "df_post_2005['residuals_years'] = df_post_2005.runs - df_post_2005.yhat_years\n",
      "\n",
      "# calculating  RMSE\n",
      "RMSE_post_2 = (((df_post_2005.residuals_2) ** 2) ** (1/2)).mean()\n",
      "RMSE_post_years = (((df_post_2005.residuals_years) ** 2) ** (1/2)).mean()\n",
      "\n",
      "percent_avg_dev_post_2 = RMSE_post_2 / df.runs.mean()\n",
      "percent_avg_dev_post_years = RMSE_post_years / df.runs.mean()"
     ],
     "language": "python",
     "metadata": {},
     "outputs": [],
     "prompt_number": 59
    },
    {
     "cell_type": "code",
     "collapsed": false,
     "input": [
      "print 'average deviation for model 2: {0}'.format(round(RMSE_post_2, 4))\n",
      "print 'average % deviation for model 2: {0}%'.format(round(percent_avg_dev_post_2*100, 1))\n",
      "print 'average deviation for model 2 + years: {0}'.format(round(RMSE_post_years, 4))\n",
      "print 'average % deviation for model 2 + years: {0}%'.format(round(percent_avg_dev_post_years*100, 1))\n",
      "\n",
      "# Model without year actually has a lower % deviation"
     ],
     "language": "python",
     "metadata": {},
     "outputs": [
      {
       "output_type": "stream",
       "stream": "stdout",
       "text": [
        "average deviation for model 2: 7.2099\n",
        "average % deviation for model 2: 4.2%\n",
        "average deviation for model 2 + years: 6.7419\n",
        "average % deviation for model 2 + years: 3.9%\n"
       ]
      }
     ],
     "prompt_number": 60
    },
    {
     "cell_type": "code",
     "collapsed": false,
     "input": [],
     "language": "python",
     "metadata": {},
     "outputs": []
    }
   ],
   "metadata": {}
  }
 ]
}