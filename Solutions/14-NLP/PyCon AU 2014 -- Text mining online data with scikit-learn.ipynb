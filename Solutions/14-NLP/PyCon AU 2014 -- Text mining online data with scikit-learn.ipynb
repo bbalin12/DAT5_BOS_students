{
 "metadata": {
  "celltoolbar": "Slideshow",
  "name": "",
  "signature": "sha256:ecc28b275b5a78d216d966f0441737d608760fcd367619e86a576af5e7c3e8fa"
 },
 "nbformat": 3,
 "nbformat_minor": 0,
 "worksheets": [
  {
   "cells": [
    {
     "cell_type": "markdown",
     "metadata": {
      "slideshow": {
       "slide_type": "slide"
      }
     },
     "source": [
      "<img src=\"files/Cloud2.png\" width=600px>"
     ]
    },
    {
     "cell_type": "heading",
     "level": 1,
     "metadata": {
      "slideshow": {
       "slide_type": "slide"
      }
     },
     "source": [
      "Text mining online data with scikit-learn"
     ]
    },
    {
     "cell_type": "markdown",
     "metadata": {
      "slideshow": {
       "slide_type": "notes"
      }
     },
     "source": [
      "Text mining has a large variety of applications and is becoming used in more businesses for gathering intelligence and providing insight. People are sending text constantly online via social media, chat rooms and blogs. Tapping into this information can help businesses gain an advantage and is increasingly a necessary skill for data analytics. Text mining is a unique data mining problem, dealing with real world data that is often heavy on artefacts, difficult to model and challenging to properly manage. Text mining can be seen as a bit of a dark art that is difficult to learn and gain traction. However some basic strategies can often be applied to get good results quite quickly, and the same basic models appear in many text mining challenges.\n",
      "\n",
      "The scikit-learn project is a library of machine learning algorithms for the scientific python stack (numpy & scipy). It is known for having detailed documentation, a high quality of coding and a growing list of users worldwide. The documentation includes tutorials for learning machine learning as well as the library and is a great place to start for beginners wanting to learn data analytics. There is a strong focus on reusable components and useful algorithms, and the text mining sections of scikit-learn follow the \u201cstandard model\u201d of text mining quite well.\n",
      "\n",
      "In this presentation, we will go through the scikit-learn project for machine learning and show how to use it for text mining applications. Real world data and applications will be used, including spam detection on Twitter, predicting the author of a program and determining a user's political bent based on their social media account."
     ]
    },
    {
     "cell_type": "heading",
     "level": 2,
     "metadata": {
      "slideshow": {
       "slide_type": "slide"
      }
     },
     "source": [
      "Who am I"
     ]
    },
    {
     "cell_type": "markdown",
     "metadata": {
      "slideshow": {
       "slide_type": "-"
      }
     },
     "source": [
      "Robert Layton\n",
      "\n",
      "* Research Fellow at Federation University Australia\n",
      "* Data analyst, lots of text\n",
      "* scikit-learn contributor (including GSoC mentor)"
     ]
    },
    {
     "cell_type": "code",
     "collapsed": false,
     "input": [
      "import sys\n",
      "print(\"Python: {}\".format(sys.version))"
     ],
     "language": "python",
     "metadata": {
      "slideshow": {
       "slide_type": "slide"
      }
     },
     "outputs": [
      {
       "output_type": "stream",
       "stream": "stdout",
       "text": [
        "Python: 3.4.0 (default, Apr 11 2014, 13:05:11) \n",
        "[GCC 4.8.2]\n"
       ]
      }
     ],
     "prompt_number": 1
    },
    {
     "cell_type": "code",
     "collapsed": false,
     "input": [
      "import numpy as np\n",
      "import sklearn\n",
      "print(\"scikit-learn: {}\".format(sklearn.__version__))"
     ],
     "language": "python",
     "metadata": {},
     "outputs": [
      {
       "output_type": "stream",
       "stream": "stdout",
       "text": [
        "scikit-learn: 0.15.0\n"
       ]
      }
     ],
     "prompt_number": 2
    },
    {
     "cell_type": "heading",
     "level": 2,
     "metadata": {
      "slideshow": {
       "slide_type": "slide"
      }
     },
     "source": [
      "What this talk is about"
     ]
    },
    {
     "cell_type": "markdown",
     "metadata": {
      "slideshow": {
       "slide_type": "fragment"
      }
     },
     "source": [
      "Using scikit-learn for text mining.\n",
      "\n",
      "* I'll go through a standard category example\n",
      "* Then doing spam detection on Twitter\n",
      "\n",
      "Then I'll quickly talk about some other options and how they would integrate into scikit-learn's framework."
     ]
    },
    {
     "cell_type": "heading",
     "level": 2,
     "metadata": {
      "slideshow": {
       "slide_type": "slide"
      }
     },
     "source": [
      "What this talk is not!"
     ]
    },
    {
     "cell_type": "markdown",
     "metadata": {
      "slideshow": {
       "slide_type": "fragment"
      }
     },
     "source": [
      "This isn't a talk about:\n",
      "\n",
      "* NLTK -- A great library, but I'm trying to be focused\n",
      "* Pandas -- Again, great, but out of scope\n",
      "* Obtaining online data -- maybe another year!\n",
      "* Ethics -- for this talk, just assume we got consent\n",
      "\n"
     ]
    },
    {
     "cell_type": "code",
     "collapsed": false,
     "input": [
      "# Let's get some data\n",
      "from sklearn.datasets import fetch_20newsgroups\n",
      "newsgroups_train = fetch_20newsgroups(subset='train', categories=['alt.atheism', 'soc.religion.christian', 'talk.politics.guns'])\n",
      "\n",
      "from pprint import pprint\n",
      "pprint(list(newsgroups_train.target_names))"
     ],
     "language": "python",
     "metadata": {
      "slideshow": {
       "slide_type": "slide"
      }
     },
     "outputs": [
      {
       "output_type": "stream",
       "stream": "stdout",
       "text": [
        "['alt.atheism', 'soc.religion.christian', 'talk.politics.guns']\n"
       ]
      }
     ],
     "prompt_number": 3
    },
    {
     "cell_type": "code",
     "collapsed": false,
     "input": [
      "# Let's split the dataset into two sets: training and testing\n",
      "from sklearn.cross_validation import train_test_split\n",
      "docs_train, docs_test, y_train, y_test = train_test_split(newsgroups_train.data, newsgroups_train.target)\n",
      "print(\"Number of training documents: {}\".format(len(docs_train)))\n",
      "print(\"Number of testing documents: {}\".format(len(docs_test)))"
     ],
     "language": "python",
     "metadata": {
      "slideshow": {
       "slide_type": "slide"
      }
     },
     "outputs": [
      {
       "output_type": "stream",
       "stream": "stdout",
       "text": [
        "Number of training documents: 1218\n",
        "Number of testing documents: 407\n"
       ]
      }
     ],
     "prompt_number": 4
    },
    {
     "cell_type": "code",
     "collapsed": false,
     "input": [
      "# First: how are we going to evaluate?\n",
      "# F-score -- related to accuracy, based on precision and recall\n",
      "# Hard to \"fake\" for unbalanced datasets\n",
      "from sklearn.metrics import f1_score"
     ],
     "language": "python",
     "metadata": {
      "slideshow": {
       "slide_type": "fragment"
      }
     },
     "outputs": [],
     "prompt_number": 5
    },
    {
     "cell_type": "heading",
     "level": 2,
     "metadata": {
      "slideshow": {
       "slide_type": "slide"
      }
     },
     "source": [
      "A basic example"
     ]
    },
    {
     "cell_type": "markdown",
     "metadata": {},
     "source": [
      "Machine learning algorithms don't typically take text as input.\n",
      "\n",
      "Instead, we need to convert the text into a vector:\n",
      "\n",
      "$x_i = [x_{i,0}, x_{i,1}, x_{i,2}, ... ]$\n",
      "\n",
      "We can do that easily by simply choosing a list of words and counting how frequently they occur:\n",
      "\n",
      "$x_{i, j}$ is the frequency of word $j$ in document $i$.\n",
      "\n",
      "We can manually choose our list of words, or we can set it from the data. Usually we set from the data, for example \"The least frequently occuring words\". This is called the \"bag of words\" model, and scikit-learn has is built-in:"
     ]
    },
    {
     "cell_type": "code",
     "collapsed": false,
     "input": [
      "from sklearn.feature_extraction.text import CountVectorizer\n",
      "\n",
      "# Fit on training data\n",
      "model = CountVectorizer()\n",
      "X_train = model.fit_transform(docs_train)\n",
      "\n",
      "# Vocabulary is the words used, and is a dict, available in model.vocabulary_\n",
      "# They map the words to the indices\n",
      "pprint(list(model.vocabulary_.items())[:10])"
     ],
     "language": "python",
     "metadata": {
      "slideshow": {
       "slide_type": "slide"
      }
     },
     "outputs": [
      {
       "output_type": "stream",
       "stream": "stdout",
       "text": [
        "[('outgrowth', 15427),\n",
        " ('lpf', 13270),\n",
        " ('genocide', 9865),\n",
        " ('san', 18510),\n",
        " ('renouncing', 17802),\n",
        " ('mothers', 14301),\n",
        " ('swimmer', 20446),\n",
        " ('fifth', 9195),\n",
        " ('buyer', 4573),\n",
        " ('manhattan', 13482)]\n"
       ]
      }
     ],
     "prompt_number": 6
    },
    {
     "cell_type": "code",
     "collapsed": false,
     "input": [
      "# X_train gives us our bag of words matrix: X_train[i][j] is the value of word with index j for document with index i\n",
      "# It is a sparse matrix, which we will get to later on\n",
      "print(type(X_train))"
     ],
     "language": "python",
     "metadata": {
      "slideshow": {
       "slide_type": "slide"
      }
     },
     "outputs": [
      {
       "output_type": "stream",
       "stream": "stdout",
       "text": [
        "<class 'scipy.sparse.csr.csr_matrix'>\n"
       ]
      }
     ],
     "prompt_number": 7
    },
    {
     "cell_type": "code",
     "collapsed": false,
     "input": [
      "keyword = \"believe\"\n",
      "documents_containing_keyword = [index for index in range(len(docs_train)) if keyword in docs_train[index]]\n",
      "assert len(documents_containing_keyword) > 0\n",
      "keyword_index = model.vocabulary_[keyword]\n",
      "document_index = documents_containing_keyword[0]\n",
      "print(keyword_index in X_train[document_index].nonzero()[1])\n",
      "print(\"The keyword {} appears {} times in document {}\".format(keyword, X_train[document_index,keyword_index], document_index))"
     ],
     "language": "python",
     "metadata": {
      "slideshow": {
       "slide_type": "notes"
      }
     },
     "outputs": [
      {
       "output_type": "stream",
       "stream": "stdout",
       "text": [
        "True\n",
        "The keyword believe appears 1 times in document 12\n"
       ]
      }
     ],
     "prompt_number": 8
    },
    {
     "cell_type": "code",
     "collapsed": false,
     "input": [
      "# Let's compare some words, and how they differ between categories\n",
      "words = [\"believe\", \"right\", \"bible\"]\n",
      "word_indices = [model.vocabulary_[word] for word in words]\n",
      "classes = sorted(set(y_train))\n",
      "categories = newsgroups_train.target_names\n",
      "#print(X_train[y_train == 0, word_indices[0]])\n",
      "frequency = np.array([[X_train[y_train == category,wi].mean() for wi in word_indices]\n",
      "                       for category in classes]).T\n",
      "\n",
      "assert frequency.shape == (len(word_indices), sum(set(y_train))), frequency.shape\n",
      "print(frequency)"
     ],
     "language": "python",
     "metadata": {
      "slideshow": {
       "slide_type": "notes"
      }
     },
     "outputs": [
      {
       "output_type": "stream",
       "stream": "stdout",
       "text": [
        "[[ 0.53351955  0.702407    0.37717122]\n",
        " [ 0.32960894  0.26039387  0.56823821]\n",
        " [ 0.34078212  0.64989059  0.00496278]]\n"
       ]
      }
     ],
     "prompt_number": 9
    },
    {
     "cell_type": "code",
     "collapsed": false,
     "input": [
      "%matplotlib inline\n",
      "# Setup the plot\n",
      "from matplotlib import pyplot as plt\n",
      "ind = np.arange(frequency.shape[0])\n",
      "width = 0.2\n",
      "\n",
      "colors = \"rgbyck\"\n"
     ],
     "language": "python",
     "metadata": {
      "slideshow": {
       "slide_type": "notes"
      }
     },
     "outputs": [],
     "prompt_number": 10
    },
    {
     "cell_type": "code",
     "collapsed": false,
     "input": [
      "fig = plt.figure(figsize=(20, 8))\n",
      "ax = fig.add_subplot(111)\n",
      "for column in range(frequency.shape[1]):\n",
      "    ax.barh(ind + (width * column), frequency[:,column], width, color=colors[column], label=categories[column])\n",
      "ax.set(yticks=ind + width, yticklabels=words, ylim=[len(words)*width - 1, frequency.shape[0]])\n",
      "ax.legend(bbox_to_anchor=(0.9, 0.8))\n",
      "r = plt.xlim((0, 1))\n",
      "plt.show()"
     ],
     "language": "python",
     "metadata": {
      "slideshow": {
       "slide_type": "slide"
      }
     },
     "outputs": [
      {
       "metadata": {},
       "output_type": "display_data",
       "png": "[encoded data removed]",
       "text": [
        "<matplotlib.figure.Figure at 0x7f24b3c7ff98>"
       ]
      }
     ],
     "prompt_number": 11
    },
    {
     "cell_type": "code",
     "collapsed": false,
     "input": [
      "# We can use our existing model to transform the test documents in the same way\n",
      "# Because we don't fit again, the indices match with the previouc\n",
      "X_test = model.transform(docs_test)"
     ],
     "language": "python",
     "metadata": {
      "slideshow": {
       "slide_type": "slide"
      }
     },
     "outputs": [],
     "prompt_number": 12
    },
    {
     "cell_type": "code",
     "collapsed": false,
     "input": [
      "# Then we build a basic classifier and test it out\n",
      "from sklearn.svm import SVC\n",
      "clf = SVC().fit(X_train, y_train)\n",
      "y_pred = clf.predict(X_test)\n",
      "print(\"F1-score: {:.3f}\".format(f1_score(y_test, y_pred)))\n",
      "print(\"Accuracy: {:.3f}\".format(np.mean(y_test == y_pred)))"
     ],
     "language": "python",
     "metadata": {
      "slideshow": {
       "slide_type": "slide"
      }
     },
     "outputs": [
      {
       "output_type": "stream",
       "stream": "stdout",
       "text": [
        "F1-score: 0.527\n",
        "Accuracy: 0.597\n"
       ]
      },
      {
       "output_type": "stream",
       "stream": "stderr",
       "text": [
        "/usr/lib/python3/dist-packages/scipy/sparse/compressed.py:119: UserWarning: indptr array has non-integer dtype (float64)\n",
        "  % self.indptr.dtype.name)\n"
       ]
      }
     ],
     "prompt_number": 13
    },
    {
     "cell_type": "code",
     "collapsed": false,
     "input": [
      "# Let's put that all into a short snippet:\n",
      "text_model = CountVectorizer()\n",
      "clf_model = SVC()\n",
      "\n",
      "# Convert documents to vectors\n",
      "X_train = text_model.fit_transform(docs_train)\n",
      "X_test = text_model.transform(docs_test)\n",
      "\n",
      "# Train classifier\n",
      "clf_model.fit(X_train, y_train)\n",
      "y_pred = clf_model.predict(X_test)\n",
      "\n",
      "# Evaluate\n",
      "print(\"F1-score: {:.3f}\".format(f1_score(y_test, y_pred)))\n",
      "print(\"Accuracy: {:.3f}\".format(np.mean(y_test == y_pred)))\n",
      "# The results will change, as there is some randomness.\n",
      "# We can usually address that using random_state, but that is out of scope for today.\n"
     ],
     "language": "python",
     "metadata": {
      "slideshow": {
       "slide_type": "slide"
      }
     },
     "outputs": [
      {
       "output_type": "stream",
       "stream": "stdout",
       "text": [
        "F1-score: 0.527\n",
        "Accuracy: 0.597\n"
       ]
      }
     ],
     "prompt_number": 14
    },
    {
     "cell_type": "heading",
     "level": 1,
     "metadata": {
      "slideshow": {
       "slide_type": "slide"
      }
     },
     "source": [
      "Spam Detection on Twitter"
     ]
    },
    {
     "cell_type": "markdown",
     "metadata": {
      "slideshow": {
       "slide_type": "slide"
      }
     },
     "source": [
      "![Word Cloud](files/Cloud3.png \"Word Cloud\")\n"
     ]
    },
    {
     "cell_type": "markdown",
     "metadata": {
      "slideshow": {
       "slide_type": "slide"
      }
     },
     "source": [
      "\n",
      "Spam on social media is a big problem -- it ruins the user experience for people, wastes resources for companies and is just generally annoying. It can also propogate crime, but allowing criminals to advertise their goods without having to go through other channels. Luckily, the same techniques as above can be applied here."
     ]
    },
    {
     "cell_type": "code",
     "collapsed": false,
     "input": [
      "# Get a dataset of spam and non-spam twitter posts\n",
      "# Offline, I collected a bunch of twitter posts and manually sorted through a few thousand.\n",
      "# This is a pretty easy job for a human, but can be hard for machines!\n",
      "import numpy as np\n",
      "\n",
      "def load_twitter_data(filename='tweets_spam.csv'):\n",
      "    documents = []\n",
      "    classes = []\n",
      "    with open(filename) as inf:\n",
      "        for line in inf:\n",
      "            data = line.split(\",\")\n",
      "            documents.append(\",\".join(data[:-1]))\n",
      "            classes.append(int(data[-1]))\n",
      "    classes = np.array(classes, dtype='int')\n",
      "    return documents, classes"
     ],
     "language": "python",
     "metadata": {
      "slideshow": {
       "slide_type": "notes"
      }
     },
     "outputs": [],
     "prompt_number": 15
    },
    {
     "cell_type": "code",
     "collapsed": false,
     "input": [
      "documents, classes = load_twitter_data()\n",
      "print(\"Loaded {} documents, {} are spam and {} are not\".format(len(documents), sum(classes == 1), sum(classes == 0)))\n",
      "docs_train, docs_test, y_train, y_test = train_test_split(documents, classes)\n",
      "print(\"Number of training documents: {}\".format(len(docs_train)))\n",
      "print(\"Number of testing documents: {}\".format(len(docs_test)))"
     ],
     "language": "python",
     "metadata": {
      "slideshow": {
       "slide_type": "slide"
      }
     },
     "outputs": [
      {
       "output_type": "stream",
       "stream": "stdout",
       "text": [
        "Loaded 502 documents, 104 are spam and 398 are not\n",
        "Number of training documents: 376\n",
        "Number of testing documents: 126\n"
       ]
      }
     ],
     "prompt_number": 16
    },
    {
     "cell_type": "code",
     "collapsed": false,
     "input": [
      "# Let's use our previous model and see how that goes...\n",
      "\n",
      "text_model = CountVectorizer()\n",
      "clf_model = SVC()\n",
      "\n",
      "# Convert documents to vectors\n",
      "X_train = text_model.fit_transform(docs_train)\n",
      "X_test = text_model.transform(docs_test)\n",
      "\n",
      "# Train classifier\n",
      "clf_model.fit(X_train, y_train)\n",
      "y_pred = clf_model.predict(X_test)\n",
      "\n",
      "# Evaluate\n",
      "print(\"F1-score: {:.3f}\".format(f1_score(y_test, y_pred)))\n",
      "print(\"Accuracy: {:.3f}\".format(np.mean(y_test == y_pred)))"
     ],
     "language": "python",
     "metadata": {
      "slideshow": {
       "slide_type": "slide"
      }
     },
     "outputs": [
      {
       "output_type": "stream",
       "stream": "stdout",
       "text": [
        "F1-score: 0.000\n",
        "Accuracy: 0.786\n"
       ]
      },
      {
       "output_type": "stream",
       "stream": "stderr",
       "text": [
        "/usr/local/lib/python3.4/dist-packages/sklearn/metrics/metrics.py:1771: UndefinedMetricWarning: F-score is ill-defined and being set to 0.0 due to no predicted samples.\n",
        "  'precision', 'predicted', average, warn_for)\n"
       ]
      }
     ],
     "prompt_number": 17
    },
    {
     "cell_type": "code",
     "collapsed": false,
     "input": [
      "# That's odd -- high accuracy, (very) low f-score\n",
      "# A confusion matrix will show us the issue here\n",
      "from sklearn.metrics import classification_report\n",
      "print(classification_report(y_test, y_pred))\n"
     ],
     "language": "python",
     "metadata": {
      "slideshow": {
       "slide_type": "fragment"
      }
     },
     "outputs": [
      {
       "output_type": "stream",
       "stream": "stdout",
       "text": [
        "             precision    recall  f1-score   support\n",
        "\n",
        "          0       0.79      1.00      0.88        99\n",
        "          1       0.00      0.00      0.00        27\n",
        "\n",
        "avg / total       0.62      0.79      0.69       126\n",
        "\n"
       ]
      },
      {
       "output_type": "stream",
       "stream": "stderr",
       "text": [
        "/usr/local/lib/python3.4/dist-packages/sklearn/metrics/metrics.py:1771: UndefinedMetricWarning: Precision and F-score are ill-defined and being set to 0.0 in labels with no predicted samples.\n",
        "  'precision', 'predicted', average, warn_for)\n"
       ]
      }
     ],
     "prompt_number": 18
    },
    {
     "cell_type": "markdown",
     "metadata": {
      "slideshow": {
       "slide_type": "slide"
      }
     },
     "source": [
      "In other words, the classifier is \"cheating\" by just saying all entries are not spam. This is very accurate, but only because most of our dataset is not spam.\n",
      "Instead, let's try a bunch of different parameters.\n",
      "\n",
      "We can build a pipeline to handle this for us, and that let's us try different parameters."
     ]
    },
    {
     "cell_type": "code",
     "collapsed": false,
     "input": [
      "from sklearn.pipeline import Pipeline\n",
      "text_model = CountVectorizer()\n",
      "clf_model = SVC()\n",
      "pipeline = Pipeline([('vectorizer', text_model),\n",
      "                     ('classifier', clf_model)\n",
      "                      ])\n",
      "# With the pipeline define, we set out parameters in a dictionary, which we can specify as ranges\n",
      "params = {\n",
      "            # Vectoriser parameters\n",
      "            'vectorizer__ngram_range': [(1,3), ],  # n-grams are subsequences of \"tokens\"\n",
      "            'vectorizer__analyzer': ['word',],  # words are our tokens\n",
      "            'vectorizer__min_df': [2, 3],  # n-grams need to appear in at least this many documents in the dataset\n",
      "            # Classifier parameters\n",
      "            'classifier__C': [0.1, 1.0, 10, ],  # See Support Vector Machines information\n",
      "            'classifier__kernel': ['rbf', 'linear'],\n",
      "           }"
     ],
     "language": "python",
     "metadata": {
      "slideshow": {
       "slide_type": "slide"
      }
     },
     "outputs": [],
     "prompt_number": 19
    },
    {
     "cell_type": "markdown",
     "metadata": {
      "slideshow": {
       "slide_type": "slide"
      }
     },
     "source": [
      "But... how do we choose out parameters? We can't use our existing test set, due to overfitting. Overfitting is the effect of training a model too specifically.\n",
      "\n",
      "Typically this is handled by performing cross fold validation, which scikit-learn supports for pipelines."
     ]
    },
    {
     "cell_type": "code",
     "collapsed": false,
     "input": [
      "from sklearn.grid_search import GridSearchCV\n",
      "from sklearn.cross_validation import StratifiedKFold\n",
      "grid = GridSearchCV(\n",
      "                   pipeline,  # Our pipeline from above\n",
      "                   params,  # The parameters we set above\n",
      "                   refit=True,  # Ignore me for now\n",
      "                   n_jobs=1,  # We can set this to the number of cores to use, or -1 for \"all\"\n",
      "                   scoring='f1',  # f1 score\n",
      "                   cv=StratifiedKFold(y_train, n_folds=3),  # What type of cross fold validation to use\n",
      "                )"
     ],
     "language": "python",
     "metadata": {
      "slideshow": {
       "slide_type": "slide"
      }
     },
     "outputs": [],
     "prompt_number": 20
    },
    {
     "cell_type": "code",
     "collapsed": false,
     "input": [
      "# Now, we fit out model\n",
      "grid.fit(docs_train, y_train)\n",
      "\n",
      "# and then evaluate!\n",
      "y_pred = grid.predict(docs_test)\n",
      "\n",
      "# Evaluate\n",
      "print(\"F1-score: {:.3f}\".format(f1_score(y_test, y_pred)))\n",
      "print(\"Accuracy: {:.3f}\".format(np.mean(y_test == y_pred)))\n",
      "print(classification_report(y_test, y_pred))\n"
     ],
     "language": "python",
     "metadata": {
      "slideshow": {
       "slide_type": "slide"
      }
     },
     "outputs": [
      {
       "output_type": "stream",
       "stream": "stdout",
       "text": [
        "F1-score: 0.681\n",
        "Accuracy: 0.881\n",
        "             precision    recall  f1-score   support\n",
        "\n",
        "          0       0.90      0.96      0.93        99\n",
        "          1       0.80      0.59      0.68        27\n",
        "\n",
        "avg / total       0.88      0.88      0.87       126\n",
        "\n"
       ]
      }
     ],
     "prompt_number": 21
    },
    {
     "cell_type": "markdown",
     "metadata": {
      "slideshow": {
       "slide_type": "slide"
      }
     },
     "source": [
      "By running a bunch of parameters, we can find a model using training data that better represents our data.\n",
      "The above report can be roughly summarised as:\n",
      "\n",
      "* When we predicted something as spam, we were right 80% of the time\n",
      "* Of the things that are spam, we found 59% of them\n",
      "\n",
      "So not bad!\n",
      "\n",
      "From here, you need to define what your evaluation really means. If you are building a spam detector for twitter, you may not care about missing legitimate content -- in this case, you can use an evaluate measure that finds more spam, but with more \"false positives\". If you are building one for your work email, you probably don't want to miss that email from your boss. For this reason, you would penalise \"false positives\" more, leading to more spam in your inbox, but less legitimate emails missed.\n",
      "\n",
      "One of the key parameters here was the n-gram, which allows us to choose several words in a row as a feature. For twitter spam, often \"normal\" words are used, so looking at single words is unlikely to give us a good result -- they occur in normal and spam tweets with approximately the same frequency."
     ]
    },
    {
     "cell_type": "heading",
     "level": 2,
     "metadata": {
      "slideshow": {
       "slide_type": "slide"
      }
     },
     "source": [
      "Other possible applications"
     ]
    },
    {
     "cell_type": "markdown",
     "metadata": {
      "slideshow": {
       "slide_type": "slide"
      }
     },
     "source": [
      "Authorship analysis is a growing field aiming to recognised the author of a document, using only the content of that document.\n",
      "Typically this is performed using natural language documents (I covered this briefly last year).\n",
      "\n",
      "However, it works for software too! Using the same types of features, you can often predict which of a set of authors wrote a given document.\n",
      "\n",
      "We can do this by looking at character n-grams instead of word n-grams."
     ]
    },
    {
     "cell_type": "code",
     "collapsed": false,
     "input": [
      "# We can use our previous pipeline, but will use characters instead of words as our tokens\n",
      "# With the pipeline define, we set out parameters in a dictionary, which we can specify as ranges\n",
      "params = {\n",
      "            # Vectoriser parameters\n",
      "            'vectorizer__ngram_range': [(1,3), ],  # n-grams are subsequences of \"tokens\"\n",
      "            'vectorizer__analyzer': ['char',],  # characters are our tokens\n",
      "            'vectorizer__min_df': [2, 3],  # n-grams need to appear in at least this many documents in the dataset\n",
      "            # Classifier parameters\n",
      "            'classifier__C': [0.1, 1.0, 10, ],  # See Support Vector Machines information\n",
      "            'classifier__kernel': ['rbf', 'linear'],\n",
      "           }"
     ],
     "language": "python",
     "metadata": {
      "slideshow": {
       "slide_type": "slide"
      }
     },
     "outputs": [],
     "prompt_number": 22
    },
    {
     "cell_type": "markdown",
     "metadata": {
      "slideshow": {
       "slide_type": "slide"
      }
     },
     "source": [
      "Other applications from research include applying LIWC to predicting a social media's political stance.\n",
      "\n",
      "See: Tumasjan, A., Sprenger, T. O., Sandner, P. G., & Welpe, I. M. (2010). Predicting Elections with Twitter: What 140 Characters Reveal about Political Sentiment. ICWSM, 10, 178-185.\n",
      "\n",
      "LIWC enhances word vectors with information about the contexts in which they are used -- a bit like semantics on steroids."
     ]
    },
    {
     "cell_type": "heading",
     "level": 1,
     "metadata": {
      "slideshow": {
       "slide_type": "slide"
      }
     },
     "source": [
      "Thanks!"
     ]
    },
    {
     "cell_type": "markdown",
     "metadata": {},
     "source": [
      "You can reach me at robertlayton@gmail.com\n"
     ]
    }
   ],
   "metadata": {}
  }
 ]
}